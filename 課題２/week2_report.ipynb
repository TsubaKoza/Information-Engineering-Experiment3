{
 "cells": [
  {
   "cell_type": "markdown",
   "metadata": {},
   "source": [
    "# パターン認識 第二週目 レポート課題"
   ]
  },
  {
   "cell_type": "markdown",
   "metadata": {},
   "source": [
    "## レポートについて\n",
    "＊レポートは配布資料(パターン認識_第2週目_資料.pdf)の「レポートの構成」にしたがってまとめてください。<br>\n",
    "＊提出物は**レポート**と**課題を実装したjupyter notebookファイル(このファイル)**の二つです。\n",
    "\n",
    "## レポート課題\n",
    "課題の解をこのファイル(week2_report.ipynb)に実装してください。<br>課題ファイルにはコメント文でヒントが書かれていますが、必ずしもヒント通りに解く必要はありません（自由に実装していただいて構いません）。"
   ]
  },
  {
   "cell_type": "code",
   "execution_count": 7,
   "metadata": {},
   "outputs": [],
   "source": [
    "#ライブラリのインポート\n",
    "import numpy as np\n",
    "import matplotlib.pyplot as plt\n",
    "%matplotlib inline"
   ]
  },
  {
   "cell_type": "markdown",
   "metadata": {},
   "source": [
    "scikit-learnは、Pythonの機械学習ライブラリで、さまざまな学習用のライブラリが含まれています。その中には、いくつかのデータセットも用意されており、wineデータセットはその1つです。\n",
    "\n",
    "wineデータセットは、3種類のワイン（クラス1、クラス2、クラス3）に関するデータセットです。データセットには、178サンプルが含まれており、それぞれに対し13の特徴と1つのクラスラベルを持っています。\n",
    "\n",
    "scikit-learnのload_wine()関数を用いることで、ワインデータセットを読み込むことができます。"
   ]
  },
  {
   "cell_type": "code",
   "execution_count": 8,
   "metadata": {},
   "outputs": [],
   "source": [
    "#データの読み込み\n",
    "from sklearn.datasets import load_wine\n",
    "data = load_wine()"
   ]
  },
  {
   "cell_type": "code",
   "execution_count": 9,
   "metadata": {},
   "outputs": [],
   "source": [
    "#特徴量Xと目的変数y（正解ラベル）を作成\n",
    "X = data.data\n",
    "y = data.target"
   ]
  },
  {
   "cell_type": "markdown",
   "metadata": {},
   "source": [
    "scikit-learnのtrain_test_split関数を用いることでデータセットを学習データとテストデータに分けることができます。"
   ]
  },
  {
   "cell_type": "code",
   "execution_count": 10,
   "metadata": {},
   "outputs": [
    {
     "name": "stdout",
     "output_type": "stream",
     "text": [
      "124 13\n",
      "54 13\n",
      "[[1.269e+01 1.530e+00 2.260e+00 2.070e+01 8.000e+01 1.380e+00 1.460e+00\n",
      "  5.800e-01 1.620e+00 3.050e+00 9.600e-01 2.060e+00 4.950e+02]\n",
      " [1.237e+01 1.630e+00 2.300e+00 2.450e+01 8.800e+01 2.220e+00 2.450e+00\n",
      "  4.000e-01 1.900e+00 2.120e+00 8.900e-01 2.780e+00 3.420e+02]\n",
      " [1.251e+01 1.240e+00 2.250e+00 1.750e+01 8.500e+01 2.000e+00 5.800e-01\n",
      "  6.000e-01 1.250e+00 5.450e+00 7.500e-01 1.510e+00 6.500e+02]\n",
      " [1.285e+01 3.270e+00 2.580e+00 2.200e+01 1.060e+02 1.650e+00 6.000e-01\n",
      "  6.000e-01 9.600e-01 5.580e+00 8.700e-01 2.110e+00 5.700e+02]\n",
      " [1.345e+01 3.700e+00 2.600e+00 2.300e+01 1.110e+02 1.700e+00 9.200e-01\n",
      "  4.300e-01 1.460e+00 1.068e+01 8.500e-01 1.560e+00 6.950e+02]\n",
      " [1.307e+01 1.500e+00 2.100e+00 1.550e+01 9.800e+01 2.400e+00 2.640e+00\n",
      "  2.800e-01 1.370e+00 3.700e+00 1.180e+00 2.690e+00 1.020e+03]\n",
      " [1.358e+01 1.660e+00 2.360e+00 1.910e+01 1.060e+02 2.860e+00 3.190e+00\n",
      "  2.200e-01 1.950e+00 6.900e+00 1.090e+00 2.880e+00 1.515e+03]\n",
      " [1.324e+01 3.980e+00 2.290e+00 1.750e+01 1.030e+02 2.640e+00 2.630e+00\n",
      "  3.200e-01 1.660e+00 4.360e+00 8.200e-01 3.000e+00 6.800e+02]\n",
      " [1.374e+01 1.670e+00 2.250e+00 1.640e+01 1.180e+02 2.600e+00 2.900e+00\n",
      "  2.100e-01 1.620e+00 5.850e+00 9.200e-01 3.200e+00 1.060e+03]\n",
      " [1.362e+01 4.950e+00 2.350e+00 2.000e+01 9.200e+01 2.000e+00 8.000e-01\n",
      "  4.700e-01 1.020e+00 4.400e+00 9.100e-01 2.050e+00 5.500e+02]]\n",
      "[[1.184e+01 2.890e+00 2.230e+00 1.800e+01 1.120e+02 1.720e+00 1.320e+00\n",
      "  4.300e-01 9.500e-01 2.650e+00 9.600e-01 2.520e+00 5.000e+02]\n",
      " [1.413e+01 4.100e+00 2.740e+00 2.450e+01 9.600e+01 2.050e+00 7.600e-01\n",
      "  5.600e-01 1.350e+00 9.200e+00 6.100e-01 1.600e+00 5.600e+02]\n",
      " [1.184e+01 8.900e-01 2.580e+00 1.800e+01 9.400e+01 2.200e+00 2.210e+00\n",
      "  2.200e-01 2.350e+00 3.050e+00 7.900e-01 3.080e+00 5.200e+02]\n",
      " [1.243e+01 1.530e+00 2.290e+00 2.150e+01 8.600e+01 2.740e+00 3.150e+00\n",
      "  3.900e-01 1.770e+00 3.940e+00 6.900e-01 2.840e+00 3.520e+02]\n",
      " [1.234e+01 2.450e+00 2.460e+00 2.100e+01 9.800e+01 2.560e+00 2.110e+00\n",
      "  3.400e-01 1.310e+00 2.800e+00 8.000e-01 3.380e+00 4.380e+02]\n",
      " [1.299e+01 1.670e+00 2.600e+00 3.000e+01 1.390e+02 3.300e+00 2.890e+00\n",
      "  2.100e-01 1.960e+00 3.350e+00 1.310e+00 3.500e+00 9.850e+02]\n",
      " [1.103e+01 1.510e+00 2.200e+00 2.150e+01 8.500e+01 2.460e+00 2.170e+00\n",
      "  5.200e-01 2.010e+00 1.900e+00 1.710e+00 2.870e+00 4.070e+02]\n",
      " [1.208e+01 1.330e+00 2.300e+00 2.360e+01 7.000e+01 2.200e+00 1.590e+00\n",
      "  4.200e-01 1.380e+00 1.740e+00 1.070e+00 3.210e+00 6.250e+02]\n",
      " [1.216e+01 1.610e+00 2.310e+00 2.280e+01 9.000e+01 1.780e+00 1.690e+00\n",
      "  4.300e-01 1.560e+00 2.450e+00 1.330e+00 2.260e+00 4.950e+02]\n",
      " [1.386e+01 1.350e+00 2.270e+00 1.600e+01 9.800e+01 2.980e+00 3.150e+00\n",
      "  2.200e-01 1.850e+00 7.220e+00 1.010e+00 3.550e+00 1.045e+03]\n",
      " [1.350e+01 3.120e+00 2.620e+00 2.400e+01 1.230e+02 1.400e+00 1.570e+00\n",
      "  2.200e-01 1.250e+00 8.600e+00 5.900e-01 1.300e+00 5.000e+02]\n",
      " [1.279e+01 2.670e+00 2.480e+00 2.200e+01 1.120e+02 1.480e+00 1.360e+00\n",
      "  2.400e-01 1.260e+00 1.080e+01 4.800e-01 1.470e+00 4.800e+02]\n",
      " [1.258e+01 1.290e+00 2.100e+00 2.000e+01 1.030e+02 1.480e+00 5.800e-01\n",
      "  5.300e-01 1.400e+00 7.600e+00 5.800e-01 1.550e+00 6.400e+02]\n",
      " [1.406e+01 2.150e+00 2.610e+00 1.760e+01 1.210e+02 2.600e+00 2.510e+00\n",
      "  3.100e-01 1.250e+00 5.050e+00 1.060e+00 3.580e+00 1.295e+03]\n",
      " [1.475e+01 1.730e+00 2.390e+00 1.140e+01 9.100e+01 3.100e+00 3.690e+00\n",
      "  4.300e-01 2.810e+00 5.400e+00 1.250e+00 2.730e+00 1.150e+03]\n",
      " [1.242e+01 2.550e+00 2.270e+00 2.200e+01 9.000e+01 1.680e+00 1.840e+00\n",
      "  6.600e-01 1.420e+00 2.700e+00 8.600e-01 3.300e+00 3.150e+02]\n",
      " [1.242e+01 4.430e+00 2.730e+00 2.650e+01 1.020e+02 2.200e+00 2.130e+00\n",
      "  4.300e-01 1.710e+00 2.080e+00 9.200e-01 3.120e+00 3.650e+02]\n",
      " [1.293e+01 2.810e+00 2.700e+00 2.100e+01 9.600e+01 1.540e+00 5.000e-01\n",
      "  5.300e-01 7.500e-01 4.600e+00 7.700e-01 2.310e+00 6.000e+02]\n",
      " [1.383e+01 1.570e+00 2.620e+00 2.000e+01 1.150e+02 2.950e+00 3.400e+00\n",
      "  4.000e-01 1.720e+00 6.600e+00 1.130e+00 2.570e+00 1.130e+03]\n",
      " [1.430e+01 1.920e+00 2.720e+00 2.000e+01 1.200e+02 2.800e+00 3.140e+00\n",
      "  3.300e-01 1.970e+00 6.200e+00 1.070e+00 2.650e+00 1.280e+03]\n",
      " [1.420e+01 1.760e+00 2.450e+00 1.520e+01 1.120e+02 3.270e+00 3.390e+00\n",
      "  3.400e-01 1.970e+00 6.750e+00 1.050e+00 2.850e+00 1.450e+03]\n",
      " [1.376e+01 1.530e+00 2.700e+00 1.950e+01 1.320e+02 2.950e+00 2.740e+00\n",
      "  5.000e-01 1.350e+00 5.400e+00 1.250e+00 3.000e+00 1.235e+03]\n",
      " [1.196e+01 1.090e+00 2.300e+00 2.100e+01 1.010e+02 3.380e+00 2.140e+00\n",
      "  1.300e-01 1.650e+00 3.210e+00 9.900e-01 3.130e+00 8.860e+02]\n",
      " [1.316e+01 2.360e+00 2.670e+00 1.860e+01 1.010e+02 2.800e+00 3.240e+00\n",
      "  3.000e-01 2.810e+00 5.680e+00 1.030e+00 3.170e+00 1.185e+03]\n",
      " [1.341e+01 3.840e+00 2.120e+00 1.880e+01 9.000e+01 2.450e+00 2.680e+00\n",
      "  2.700e-01 1.480e+00 4.280e+00 9.100e-01 3.000e+00 1.035e+03]\n",
      " [1.284e+01 2.960e+00 2.610e+00 2.400e+01 1.010e+02 2.320e+00 6.000e-01\n",
      "  5.300e-01 8.100e-01 4.920e+00 8.900e-01 2.150e+00 5.900e+02]\n",
      " [1.225e+01 3.880e+00 2.200e+00 1.850e+01 1.120e+02 1.380e+00 7.800e-01\n",
      "  2.900e-01 1.140e+00 8.210e+00 6.500e-01 2.000e+00 8.550e+02]\n",
      " [1.439e+01 1.870e+00 2.450e+00 1.460e+01 9.600e+01 2.500e+00 2.520e+00\n",
      "  3.000e-01 1.980e+00 5.250e+00 1.020e+00 3.580e+00 1.290e+03]\n",
      " [1.233e+01 9.900e-01 1.950e+00 1.480e+01 1.360e+02 1.900e+00 1.850e+00\n",
      "  3.500e-01 2.760e+00 3.400e+00 1.060e+00 2.310e+00 7.500e+02]\n",
      " [1.200e+01 9.200e-01 2.000e+00 1.900e+01 8.600e+01 2.420e+00 2.260e+00\n",
      "  3.000e-01 1.430e+00 2.500e+00 1.380e+00 3.120e+00 2.780e+02]\n",
      " [1.406e+01 1.630e+00 2.280e+00 1.600e+01 1.260e+02 3.000e+00 3.170e+00\n",
      "  2.400e-01 2.100e+00 5.650e+00 1.090e+00 3.710e+00 7.800e+02]\n",
      " [1.305e+01 5.800e+00 2.130e+00 2.150e+01 8.600e+01 2.620e+00 2.650e+00\n",
      "  3.000e-01 2.010e+00 2.600e+00 7.300e-01 3.100e+00 3.800e+02]\n",
      " [1.165e+01 1.670e+00 2.620e+00 2.600e+01 8.800e+01 1.920e+00 1.610e+00\n",
      "  4.000e-01 1.340e+00 2.600e+00 1.360e+00 3.210e+00 5.620e+02]\n",
      " [1.207e+01 2.160e+00 2.170e+00 2.100e+01 8.500e+01 2.600e+00 2.650e+00\n",
      "  3.700e-01 1.350e+00 2.760e+00 8.600e-01 3.280e+00 3.780e+02]\n",
      " [1.390e+01 1.680e+00 2.120e+00 1.600e+01 1.010e+02 3.100e+00 3.390e+00\n",
      "  2.100e-01 2.140e+00 6.100e+00 9.100e-01 3.330e+00 9.850e+02]\n",
      " [1.324e+01 2.590e+00 2.870e+00 2.100e+01 1.180e+02 2.800e+00 2.690e+00\n",
      "  3.900e-01 1.820e+00 4.320e+00 1.040e+00 2.930e+00 7.350e+02]\n",
      " [1.416e+01 2.510e+00 2.480e+00 2.000e+01 9.100e+01 1.680e+00 7.000e-01\n",
      "  4.400e-01 1.240e+00 9.700e+00 6.200e-01 1.710e+00 6.600e+02]\n",
      " [1.373e+01 1.500e+00 2.700e+00 2.250e+01 1.010e+02 3.000e+00 3.250e+00\n",
      "  2.900e-01 2.380e+00 5.700e+00 1.190e+00 2.710e+00 1.285e+03]\n",
      " [1.386e+01 1.510e+00 2.670e+00 2.500e+01 8.600e+01 2.950e+00 2.860e+00\n",
      "  2.100e-01 1.870e+00 3.380e+00 1.360e+00 3.160e+00 4.100e+02]\n",
      " [1.363e+01 1.810e+00 2.700e+00 1.720e+01 1.120e+02 2.850e+00 2.910e+00\n",
      "  3.000e-01 1.460e+00 7.300e+00 1.280e+00 2.880e+00 1.310e+03]\n",
      " [1.282e+01 3.370e+00 2.300e+00 1.950e+01 8.800e+01 1.480e+00 6.600e-01\n",
      "  4.000e-01 9.700e-01 1.026e+01 7.200e-01 1.750e+00 6.850e+02]\n",
      " [1.349e+01 3.590e+00 2.190e+00 1.950e+01 8.800e+01 1.620e+00 4.800e-01\n",
      "  5.800e-01 8.800e-01 5.700e+00 8.100e-01 1.820e+00 5.800e+02]\n",
      " [1.317e+01 2.590e+00 2.370e+00 2.000e+01 1.200e+02 1.650e+00 6.800e-01\n",
      "  5.300e-01 1.460e+00 9.300e+00 6.000e-01 1.620e+00 8.400e+02]\n",
      " [1.237e+01 1.130e+00 2.160e+00 1.900e+01 8.700e+01 3.500e+00 3.100e+00\n",
      "  1.900e-01 1.870e+00 4.450e+00 1.220e+00 2.870e+00 4.200e+02]\n",
      " [1.252e+01 2.430e+00 2.170e+00 2.100e+01 8.800e+01 2.550e+00 2.270e+00\n",
      "  2.600e-01 1.220e+00 2.000e+00 9.000e-01 2.780e+00 3.250e+02]\n",
      " [1.225e+01 4.720e+00 2.540e+00 2.100e+01 8.900e+01 1.380e+00 4.700e-01\n",
      "  5.300e-01 8.000e-01 3.850e+00 7.500e-01 1.270e+00 7.200e+02]\n",
      " [1.285e+01 1.600e+00 2.520e+00 1.780e+01 9.500e+01 2.480e+00 2.370e+00\n",
      "  2.600e-01 1.460e+00 3.930e+00 1.090e+00 3.630e+00 1.015e+03]\n",
      " [1.166e+01 1.880e+00 1.920e+00 1.600e+01 9.700e+01 1.610e+00 1.570e+00\n",
      "  3.400e-01 1.150e+00 3.800e+00 1.230e+00 2.140e+00 4.280e+02]\n",
      " [1.367e+01 1.250e+00 1.920e+00 1.800e+01 9.400e+01 2.100e+00 1.790e+00\n",
      "  3.200e-01 7.300e-01 3.800e+00 1.230e+00 2.460e+00 6.300e+02]\n",
      " [1.332e+01 3.240e+00 2.380e+00 2.150e+01 9.200e+01 1.930e+00 7.600e-01\n",
      "  4.500e-01 1.250e+00 8.420e+00 5.500e-01 1.620e+00 6.500e+02]\n",
      " [1.371e+01 1.860e+00 2.360e+00 1.660e+01 1.010e+02 2.610e+00 2.880e+00\n",
      "  2.700e-01 1.690e+00 3.800e+00 1.110e+00 4.000e+00 1.035e+03]\n",
      " [1.270e+01 3.550e+00 2.360e+00 2.150e+01 1.060e+02 1.700e+00 1.200e+00\n",
      "  1.700e-01 8.400e-01 5.000e+00 7.800e-01 1.290e+00 6.000e+02]\n",
      " [1.281e+01 2.310e+00 2.400e+00 2.400e+01 9.800e+01 1.150e+00 1.090e+00\n",
      "  2.700e-01 8.300e-01 5.700e+00 6.600e-01 1.360e+00 5.600e+02]\n",
      " [1.423e+01 1.710e+00 2.430e+00 1.560e+01 1.270e+02 2.800e+00 3.060e+00\n",
      "  2.800e-01 2.290e+00 5.640e+00 1.040e+00 3.920e+00 1.065e+03]]\n"
     ]
    }
   ],
   "source": [
    "#ライブラリのインポート\n",
    "from sklearn.model_selection import train_test_split\n",
    "\n",
    "#学習データとテストデータに分割\n",
    "\n",
    "#test_size: テストデータの割合, shuffle: データセットをシャッフルするかどうか, stratify: 指定したデータの比率を合わせる\n",
    "#random_state: 乱数シードを指定\n",
    "#X_train:学習データの値、X_test: テストデータの値、y_train: 学習データのラベル、y_test: テストデータのラベル\n",
    "X_train, X_test, y_train, y_test = train_test_split(X, y, test_size=0.3, shuffle=True, stratify=y, random_state=54)\n",
    "rows1, columns1 = X_train.shape\n",
    "rows2, columns2 = X_test.shape\n",
    "print(rows1, columns1)\n",
    "print(rows2, columns2)\n",
    "print(X_train[:10])\n",
    "print(X_test)"
   ]
  },
  {
   "cell_type": "markdown",
   "metadata": {},
   "source": [
    "上の3つのセル(データの読み込み、特徴量と目的変数の作成、学習データとテストデータに分割)は、**課題を解く前に必ず実行**してください。"
   ]
  },
  {
   "cell_type": "markdown",
   "metadata": {},
   "source": [
    "## 課題1\n",
    "kNNを実装してください。"
   ]
  },
  {
   "cell_type": "markdown",
   "metadata": {},
   "source": [
    "参考としてkNNを実装する時に有用な関数の例を示します。実装においては必ずしもこの例に示した関数を使う必要はありません。\n",
    "\n",
    "\n",
    "課題1～3は、**最大値の求め方**の下にあります。"
   ]
  },
  {
   "cell_type": "markdown",
   "metadata": {},
   "source": [
    "## L2ノルムの求め方"
   ]
  },
  {
   "cell_type": "markdown",
   "metadata": {},
   "source": [
    "numpyのlinalg.norm関数を使用することユークリッドノルムを求めることができます。\n",
    "\n",
    "axis=0を指定すると、各列に対して計算され、axis=1を指定すると、各行に対して計算されます。"
   ]
  },
  {
   "cell_type": "code",
   "execution_count": 11,
   "metadata": {},
   "outputs": [
    {
     "name": "stdout",
     "output_type": "stream",
     "text": [
      "[3.16227766 4.47213595 5.83095189]\n",
      "[3.74165739 7.07106781]\n"
     ]
    }
   ],
   "source": [
    "matrix = np.array([[1, 2, 3], \n",
    "                   [3, 4, 5]])\n",
    "\n",
    "#axis=0を指定し、各列のL2ノルムを計算する\n",
    "norm_columns = np.linalg.norm(matrix, axis=0)\n",
    "print(norm_columns)  #出力: [3.16227766 4.47213595 5.83095189]\n",
    "\n",
    "#axis=1を指定し、各行のL2ノルムを計算する\n",
    "norm_rows = np.linalg.norm(matrix, axis=1)\n",
    "print(norm_rows)  #出力: [3.74165739 7.07106781]"
   ]
  },
  {
   "cell_type": "markdown",
   "metadata": {},
   "source": [
    "## ソートのやり方"
   ]
  },
  {
   "cell_type": "markdown",
   "metadata": {},
   "source": [
    "numpyのargsort関数は、与えられたリストを昇順に並び変えた場合のインデックス（リストの何番目にあるか）を返します。"
   ]
  },
  {
   "cell_type": "code",
   "execution_count": 12,
   "metadata": {},
   "outputs": [
    {
     "name": "stdout",
     "output_type": "stream",
     "text": [
      "与えた配列: [100  23  11  90   7]\n",
      "インデックス: [4 2 1 3 0]\n",
      "与えた配列を昇順にソート: [  7  11  23  90 100]\n"
     ]
    }
   ],
   "source": [
    "#配列vecを与える\n",
    "vec = np.array([100, 23, 11, 90, 7])\n",
    "#np.argsortでソートする\n",
    "vec_sort_ind = np.argsort(vec)\n",
    "#ソート結果の表示\n",
    "vec_sorted = vec[vec_sort_ind]\n",
    "\n",
    "#与えた配列の表示\n",
    "print(f\"与えた配列: {vec}\")\n",
    "#昇順に並び変えた場合のインデックス 7が一番小さいため0となる 出力: [4 2 1 3 0]\n",
    "print(f\"インデックス: {vec_sort_ind}\") \n",
    "#与えた配列を昇順に並べる 出力: [  7  11  23  90 100]\n",
    "print(f\"与えた配列を昇順にソート: {vec_sorted}\")"
   ]
  },
  {
   "cell_type": "markdown",
   "metadata": {},
   "source": [
    "## スライスの利用"
   ]
  },
  {
   "cell_type": "markdown",
   "metadata": {},
   "source": [
    "スライスを利用することでデータの連続的部分や一部の抜き出しを行うことができます。\n",
    "\n",
    "スライスの構文は以下の通りです。\n",
    "\n",
    "[開始位置:終了位置:増分]"
   ]
  },
  {
   "cell_type": "code",
   "execution_count": 13,
   "metadata": {},
   "outputs": [
    {
     "name": "stdout",
     "output_type": "stream",
     "text": [
      "[1 2 3]\n",
      "[1 2 3]\n",
      "[1 3 5]\n"
     ]
    }
   ],
   "source": [
    "a = np.array([1, 2, 3, 4, 5, 6])\n",
    "\n",
    "#インデックス(リストの何番目にあるか)0から3つ分リストから取り出す\n",
    "print(a[0:3]) #出力: [1, 2, 3]\n",
    "\n",
    "#0は省略が可能\n",
    "print(a[:3]) #出力: [1, 2, 3]\n",
    "\n",
    "#2つおきの要素\n",
    "print(a[::2]) #出力: [1, 3, 5]"
   ]
  },
  {
   "cell_type": "markdown",
   "metadata": {},
   "source": [
    "## 出現回数の求め方"
   ]
  },
  {
   "cell_type": "markdown",
   "metadata": {},
   "source": [
    "numpyのnp.unique関数は、与えられたリストから重複する要素を削除し、ユニーク（一意）な要素を返します。\n",
    "\n",
    "return_counts: Trueに設定すると、ユニークな要素の出現回数を返します。"
   ]
  },
  {
   "cell_type": "code",
   "execution_count": 14,
   "metadata": {},
   "outputs": [
    {
     "name": "stdout",
     "output_type": "stream",
     "text": [
      "uni: [10 20 30 40 50]\n",
      "個数:[1 1 3 1 1]\n"
     ]
    }
   ],
   "source": [
    "u = np.array([30, 10, 30, 20, 40, 30, 50])\n",
    "uni, fr = np.unique(u, return_counts=True)\n",
    "\n",
    "#ユニークな値を返す\n",
    "print(f\"uni: {uni}\") #出力: uni: [10 20 30 40 50]\n",
    "#個数を返す\n",
    "print(f\"個数:{fr}\") #出力: 個数:[1 1 3 1 1]"
   ]
  },
  {
   "cell_type": "markdown",
   "metadata": {},
   "source": [
    "## 最大値の求め方\n",
    "\n",
    "numpyのargmax関数は、最大値のインデックスを返します。"
   ]
  },
  {
   "cell_type": "code",
   "execution_count": 15,
   "metadata": {},
   "outputs": [
    {
     "name": "stdout",
     "output_type": "stream",
     "text": [
      "2\n",
      "30\n"
     ]
    }
   ],
   "source": [
    "#出現回数のセルで定義したuni(ユニークな値), fr(個数)の配列を使用します\n",
    "#個数の配列から最大値のインデックスを求める\n",
    "u_max_ind = np.argmax(fr)\n",
    "\n",
    "#個数の最大値インデックス(frの場合は0から開始して2番目)を出力\n",
    "print(u_max_ind) #出力: 2\n",
    "#ユニークな値の最大値を返す\n",
    "print(uni[u_max_ind]) #出力: 30"
   ]
  },
  {
   "cell_type": "markdown",
   "metadata": {},
   "source": [
    "## 課題1-1.\n",
    "学習データとテストデータとのL2ノルムを計算してください。"
   ]
  },
  {
   "cell_type": "code",
   "execution_count": 16,
   "metadata": {},
   "outputs": [],
   "source": [
    "#課題1-1:学習データとテストデータとのL2ノルムを計算します。\n",
    "#np.linalg.normを用いる\n",
    "def get_dist(X_train,X_test):\n",
    "    \n",
    "    dist = np.linalg.norm(X_train - X_test, axis=1)\n",
    "    return dist #L2ノルムを返す"
   ]
  },
  {
   "cell_type": "code",
   "execution_count": 17,
   "metadata": {},
   "outputs": [
    {
     "name": "stdout",
     "output_type": "stream",
     "text": [
      "[  32.55520235  159.95907945  152.45350406   70.44572663  195.2440017\n",
      "  520.20120665 1015.03242165  180.25164216  560.05190018   53.99136598]\n"
     ]
    }
   ],
   "source": [
    "#実装結果をテスト\n",
    "#各学習データとテストデータ1サンプルのL2ノルムを10個出力\n",
    "print(get_dist(X_train,X_test[0])[:10]) #出力: [  32.55520235 ..."
   ]
  },
  {
   "cell_type": "markdown",
   "metadata": {},
   "source": [
    "## 課題1-2.\n",
    "課題1-1で求めたL2ノルムを昇順にソートし、最も小さいものからk個(今回は5)のデータ点のクラスを調べてください。"
   ]
  },
  {
   "cell_type": "code",
   "execution_count": 18,
   "metadata": {},
   "outputs": [],
   "source": [
    "#課題1-2: 求めたL2ノルムを昇順にソートし、最も小さいk個(今回は5)のデータを求め、そのクラスを調べてください。\n",
    "#np.argsort, スライスを用いる\n",
    "def get_knn_classes(y_train,dist,k):\n",
    "    ##ここに実装\n",
    "    #求めたL2ノルムを昇順にソート\n",
    "    vec_sort = np.argsort(dist)\n",
    "    #最も小さいものからk個のデータ点のクラスを調べる\n",
    "    #ヒント1: y_train(学習データのクラスをもつ配列)を使用します\n",
    "    \n",
    "    knn_class = y_train[vec_sort[:k]]\n",
    "    return knn_class #クラスを返す"
   ]
  },
  {
   "cell_type": "code",
   "execution_count": 19,
   "metadata": {},
   "outputs": [
    {
     "name": "stdout",
     "output_type": "stream",
     "text": [
      "[2 2 2 1 1]\n",
      "[2 1 1 1 2]\n",
      "[2 2 2 1 2]\n",
      "[1 1 1 1 1]\n",
      "[1 1 1 1 1]\n",
      "[0 0 1 0 0]\n",
      "[1 1 2 1 1]\n",
      "[1 2 2 2 1]\n",
      "[1 1 1 1 2]\n",
      "[0 0 0 0 0]\n"
     ]
    }
   ],
   "source": [
    "#実装結果をテスト\n",
    "k = 5\n",
    "\n",
    "#結果を10個出力\n",
    "for x_test in X_test[:10]:\n",
    "    dist=get_dist(X_train,x_test)\n",
    "    s_idx = get_knn_classes(y_train, dist, 5)\n",
    "    print(s_idx) #出力: [2 2 2 1 1]....."
   ]
  },
  {
   "cell_type": "markdown",
   "metadata": {},
   "source": [
    "## 課題1-3.\n",
    "課題1-2で求めた5個のクラスの中で、最も多く現れるクラスを求めてください。"
   ]
  },
  {
   "cell_type": "code",
   "execution_count": 23,
   "metadata": {},
   "outputs": [],
   "source": [
    "#課題1-3:課題1-2で求めた5個のデータ点の中で、最も多く現れるクラスを求める\n",
    "#np.unique, np.argmaxを用いる\n",
    "def get_class(knn_class):\n",
    "    ##ここに実装\n",
    "    uni, fr = np.unique(knn_class, return_counts=True)\n",
    "    pred = uni[np.argmax(fr)]\n",
    "    return pred #最も多く現れるクラスを返す"
   ]
  },
  {
   "cell_type": "code",
   "execution_count": 24,
   "metadata": {},
   "outputs": [
    {
     "name": "stdout",
     "output_type": "stream",
     "text": [
      "2\n",
      "1\n",
      "2\n",
      "1\n",
      "1\n",
      "0\n",
      "1\n",
      "2\n",
      "1\n",
      "0\n"
     ]
    }
   ],
   "source": [
    "#実装結果をテスト\n",
    "k = 5\n",
    "\n",
    "#結果を10個出力\n",
    "for x_test in X_test[:10]:\n",
    "    dist=get_dist(X_train,x_test)\n",
    "    s_idx = get_knn_classes(y_train, dist, k)\n",
    "    pred_class = get_class(s_idx)\n",
    "    print(pred_class) #出力: 2,1,2,1..."
   ]
  },
  {
   "cell_type": "markdown",
   "metadata": {},
   "source": [
    "課題1-1~1-3を用いてkNNを実装します。"
   ]
  },
  {
   "cell_type": "code",
   "execution_count": 25,
   "metadata": {},
   "outputs": [
    {
     "name": "stdout",
     "output_type": "stream",
     "text": [
      "Accuracy: 0.6666666666666666\n"
     ]
    }
   ],
   "source": [
    "def knn_classify(X_train, y_train, x_test, k):\n",
    "    #課題1-1~1-3を埋めると正解率が表示されます\n",
    "    dist = get_dist(X_train,x_test)\n",
    "    sort_idx = get_knn_classes(y_train, dist, k)\n",
    "    y_pred = get_class(sort_idx)\n",
    "    \n",
    "    return y_pred\n",
    "\n",
    "from sklearn.metrics import accuracy_score\n",
    "\n",
    "k = 3\n",
    "\n",
    "y_pred = [knn_classify(X_train, y_train, x_test, k) for x_test in X_test]\n",
    "\n",
    "#正解率を求める\n",
    "score = accuracy_score(y_test, y_pred)\n",
    "print(f\"Accuracy: {score}\")"
   ]
  },
  {
   "cell_type": "markdown",
   "metadata": {},
   "source": [
    "## 課題2\n",
    "\n",
    "$k$の値を1から100までの数に変更し、kNNを実行してください。\n",
    "\n",
    "$k$ごとの結果をグラフへ描画し、また最も正解率が高くなるときの$k$(候補が複数ある場合は、$k$が最小のもの)と正解率を表示してください。"
   ]
  },
  {
   "cell_type": "code",
   "execution_count": 26,
   "metadata": {},
   "outputs": [],
   "source": [
    "#kの値を1から100までの数に定める\n",
    "k_range = range(1, 101)\n",
    "\n",
    "#各kの正解率を入れる配列\n",
    "accuracy_2 = []\n",
    "\n",
    "#kを1から100まで動かし、それぞれの正解率を求める\n",
    "#ヒント1：appeendを使うと、配列に要素を追加できる\n",
    "for k in k_range:\n",
    "    y_pred = [knn_classify(X_train, y_train, x_test, k) for x_test in X_test]\n",
    "    accuracy = accuracy_score(y_test, y_pred)\n",
    "    accuracy_2.append(accuracy)"
   ]
  },
  {
   "cell_type": "code",
   "execution_count": 29,
   "metadata": {},
   "outputs": [],
   "source": [
    "#正解率が最大となるkを求める関数\n",
    "def find_k(accuracy):\n",
    "    #正解率が最大となるkのインデックスを取得\n",
    "    \n",
    "    #求めたkとその時の正解率を表示する\n",
    "    return np.argmax(accuracy)+1, np.max(accuracy)"
   ]
  },
  {
   "cell_type": "code",
   "execution_count": 30,
   "metadata": {},
   "outputs": [
    {
     "data": {
      "text/plain": [
       "(20, 0.8148148148148148)"
      ]
     },
     "execution_count": 30,
     "metadata": {},
     "output_type": "execute_result"
    }
   ],
   "source": [
    "#正解率が最大となるkを求める\n",
    "find_k(accuracy_2)"
   ]
  },
  {
   "cell_type": "code",
   "execution_count": 31,
   "metadata": {},
   "outputs": [],
   "source": [
    "def show_graph(accuracy):\n",
    "    #各kに対するAccuracyを折れ線グラフとしてプロット\n",
    "    fig, ax = plt.subplots(figsize=(8,6))\n",
    "    ax.plot(k_range, accuracy)\n",
    "    ax.set_xlabel('Number of Neighbors K', fontsize=14)\n",
    "    ax.set_ylabel('Accuracy', fontsize=14)"
   ]
  },
  {
   "cell_type": "code",
   "execution_count": 32,
   "metadata": {},
   "outputs": [
    {
     "data": {
      "image/png": "[encoded data removed]",
      "text/plain": [
       "<Figure size 800x600 with 1 Axes>"
      ]
     },
     "metadata": {},
     "output_type": "display_data"
    }
   ],
   "source": [
    "#グラフを表示\n",
    "show_graph(accuracy_2)"
   ]
  },
  {
   "cell_type": "markdown",
   "metadata": {},
   "source": [
    "## 課題3\n",
    "標準正規化を行ってから課題2と同様の実験を行ってください。"
   ]
  },
  {
   "cell_type": "markdown",
   "metadata": {},
   "source": [
    "標準正規化は以下の式で求められます。\n",
    "$$\\bar{x} = \\frac{x - x_{mean}}{\\sigma_{x}}$$\n",
    "\n",
    "$$x_{mean}: 平均$$\n",
    "$$ \\sigma_{x}: 標準偏差$$ "
   ]
  },
  {
   "cell_type": "markdown",
   "metadata": {},
   "source": [
    "numpyのmean関数を用いることで平均が、std関数を用いることで標準偏差を求めることできます。\n",
    "\n",
    "テストデータを標準化する際は、**学習データの平均と標準偏差**を用いて行うようにしてください。"
   ]
  },
  {
   "cell_type": "code",
   "execution_count": 33,
   "metadata": {},
   "outputs": [],
   "source": [
    "#学習データの平均を求める（ヒント：mean関数を使う、axisを指定する)\n",
    "X_train_a=np.mean(X_train,axis=0)\n",
    "#学習データの標準偏差を求める（ヒント：std関数を使う、axisを指定する）\n",
    "X_train_std=np.std(X_train,axis=0)\n",
    "#学習データを標準正規化する\n",
    "X_train_stn = (X_train - X_train_a) / X_train_std\n",
    "#テストデータを標準正規化する\n",
    "X_test_stn = (X_test - X_train_a) / X_train_std"
   ]
  },
  {
   "cell_type": "code",
   "execution_count": 34,
   "metadata": {},
   "outputs": [],
   "source": [
    "#kの値を1から100までの数に定める\n",
    "k_range = range(1, 101)\n",
    "\n",
    "#各kの正解率を入れる配列\n",
    "accuracy_3 = []\n",
    "\n",
    "#kを1から100まで動かし、それぞれの正解率を求める\n",
    "#ヒント1：appeendを使うと、配列に要素を追加できる\n",
    "for k in k_range:\n",
    "    #課題2と同様に実装\n",
    "    y_pred = [knn_classify(X_train_stn, y_train, x_test_stn, k) for x_test_stn in X_test_stn]\n",
    "    accuracy = accuracy_score(y_test, y_pred)\n",
    "    accuracy_3.append(accuracy)"
   ]
  },
  {
   "cell_type": "code",
   "execution_count": 35,
   "metadata": {},
   "outputs": [
    {
     "data": {
      "text/plain": [
       "(7, 0.9814814814814815)"
      ]
     },
     "execution_count": 35,
     "metadata": {},
     "output_type": "execute_result"
    }
   ],
   "source": [
    "#正解率が最大となるkを求める\n",
    "find_k(accuracy_3)"
   ]
  },
  {
   "cell_type": "code",
   "execution_count": 36,
   "metadata": {},
   "outputs": [
    {
     "data": {
      "image/png": "[encoded data removed]",
      "text/plain": [
       "<Figure size 800x600 with 1 Axes>"
      ]
     },
     "metadata": {},
     "output_type": "display_data"
    }
   ],
   "source": [
    "#グラフを表示\n",
    "show_graph(accuracy_3)"
   ]
  },
  {
   "cell_type": "markdown",
   "metadata": {},
   "source": [
    "## 課題 4.A\n",
    "$k$の値を大きくしても正解率が向上するとは限らないとは何故か、その理由について考察してください。\n",
    "\n",
    "## 課題 4.B\n",
    "標準正規化を行う場合と行わない場合の正解率を比較して、その差がどうして生まれるか考察してください。"
   ]
  }
 ],
 "metadata": {
  "kernelspec": {
   "display_name": "Python 3 (ipykernel)",
   "language": "python",
   "name": "python3"
  },
  "language_info": {
   "codemirror_mode": {
    "name": "ipython",
    "version": 3
   },
   "file_extension": ".py",
   "mimetype": "text/x-python",
   "name": "python",
   "nbconvert_exporter": "python",
   "pygments_lexer": "ipython3",
   "version": "3.10.9"
  }
 },
 "nbformat": 4,
 "nbformat_minor": 4
}
